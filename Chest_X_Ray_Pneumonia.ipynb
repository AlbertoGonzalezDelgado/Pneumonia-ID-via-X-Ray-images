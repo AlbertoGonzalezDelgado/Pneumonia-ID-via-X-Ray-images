{
  "nbformat": 4,
  "nbformat_minor": 0,
  "metadata": {
    "colab": {
      "provenance": []
    },
    "kernelspec": {
      "name": "python3",
      "display_name": "Python 3"
    },
    "language_info": {
      "name": "python"
    }
  },
  "cells": [
    {
      "cell_type": "markdown",
      "source": [
        "# **Final Project: Chest X-Ray Images Pneumonia**\n",
        "\n",
        "Authors: Adrián Barreno Sánchez (adrian.barreno@alumnos.upm.es), Alberto González Delgado (alberto.gondelgado@alumnos.upm.es), Julian Elijah Politsch (julian.politsch@alumnos.upm.es), Angelo D'Angelo (angelo.dangelo@alumnos.upm.es)\n",
        "\n",
        "Date: 01/2023"
      ],
      "metadata": {
        "id": "dmLCTXwUvqZk"
      }
    },
    {
      "cell_type": "markdown",
      "source": [
        "## 1. Introduction\n"
      ],
      "metadata": {
        "id": "3L6eRUsFyA_i"
      }
    },
    {
      "cell_type": "markdown",
      "source": [
        "## 2. Setup"
      ],
      "metadata": {
        "id": "UQkVOdn2yMRQ"
      }
    },
    {
      "cell_type": "markdown",
      "source": [
        "### Starting Spark Session"
      ],
      "metadata": {
        "id": "RjETGXp4wqD_"
      }
    },
    {
      "cell_type": "code",
      "source": [
        "appname = \"Chest X-Ray Images Pneumonia\"\n",
        "\n",
        "# Look into https://spark.apache.org/downloads.html for the latest version\n",
        "spark_mirror = \"https://mirrors.sonic.net/apache/spark\"\n",
        "spark_version = \"3.3.1\"\n",
        "hadoop_version = \"3\"\n",
        "\n",
        "# Install Java 8 (Spark does not work with newer Java versions)\n",
        "! apt-get update > /dev/null\n",
        "! apt-get install openjdk-8-jdk-headless -qq > /dev/null\n",
        "\n",
        "# Download and extract Spark binary distribution\n",
        "! rm -rf spark-{spark_version}-bin-hadoop{hadoop_version}.tgz spark-{spark_version}-bin-hadoop{hadoop_version}\n",
        "! wget -q {spark_mirror}/spark-{spark_version}/spark-{spark_version}-bin-hadoop{hadoop_version}.tgz\n",
        "! tar xzf spark-{spark_version}-bin-hadoop{hadoop_version}.tgz\n",
        "\n",
        "# The only 2 environment variables needed to set up Java and Spark\n",
        "import os\n",
        "os.environ[\"JAVA_HOME\"] = \"/usr/lib/jvm/java-8-openjdk-amd64\"\n",
        "os.environ[\"SPARK_HOME\"] = f\"/content/spark-{spark_version}-bin-hadoop{hadoop_version}\"\n",
        "\n",
        "# Set up the Spark environment based on the environment variable SPARK_HOME \n",
        "! pip install -q findspark\n",
        "import findspark\n",
        "findspark.init()\n",
        "\n",
        "# Get the Spark session object (basic entry point for every operation)\n",
        "from pyspark.sql import SparkSession\n",
        "spark = SparkSession.builder.appName(appname).master(\"local[*]\").getOrCreate()\n",
        "\n",
        "# Import GoogleDrive\n",
        "from google.colab import drive\n",
        "drive.mount('/content/drive')"
      ],
      "metadata": {
        "colab": {
          "base_uri": "https://localhost:8080/"
        },
        "id": "zJugunEUwodt",
        "outputId": "51d5d324-39ce-415c-9b65-2c95d0c2443f"
      },
      "execution_count": 1,
      "outputs": [
        {
          "output_type": "stream",
          "name": "stdout",
          "text": [
            "Mounted at /content/drive\n"
          ]
        }
      ]
    },
    {
      "cell_type": "markdown",
      "source": [
        "### Importing data"
      ],
      "metadata": {
        "id": "SktEtUbrxWbq"
      }
    },
    {
      "cell_type": "code",
      "execution_count": 5,
      "metadata": {
        "id": "Zs3eTT4TvbmY",
        "colab": {
          "base_uri": "https://localhost:8080/"
        },
        "outputId": "ad275cd9-a442-4e29-aae9-83709239ff14"
      },
      "outputs": [
        {
          "output_type": "stream",
          "name": "stdout",
          "text": [
            "replace chest_xray/__MACOSX/._chest_xray? [y]es, [n]o, [A]ll, [N]one, [r]ename: y\n",
            "replace chest_xray/__MACOSX/chest_xray/._.DS_Store? [y]es, [n]o, [A]ll, [N]one, [r]ename: y\n",
            "replace chest_xray/__MACOSX/chest_xray/._test? [y]es, [n]o, [A]ll, [N]one, [r]ename: y5\n",
            "replace chest_xray/__MACOSX/chest_xray/._train? [y]es, [n]o, [A]ll, [N]one, [r]ename: y\n",
            "replace chest_xray/__MACOSX/chest_xray/test/._.DS_Store? [y]es, [n]o, [A]ll, [N]one, [r]ename: y\n",
            "replace chest_xray/__MACOSX/chest_xray/test/._NORMAL? [y]es, [n]o, [A]ll, [N]one, [r]ename: y\n",
            "replace chest_xray/__MACOSX/chest_xray/test/._PNEUMONIA? [y]es, [n]o, [A]ll, [N]one, [r]ename: y\n",
            "replace chest_xray/__MACOSX/chest_xray/test/NORMAL/._IM-0001-0001.jpeg? [y]es, [n]o, [A]ll, [N]one, [r]ename: y\n",
            "replace chest_xray/__MACOSX/chest_xray/test/NORMAL/._IM-0003-0001.jpeg? [y]es, [n]o, [A]ll, [N]one, [r]ename: y\n",
            "replace chest_xray/__MACOSX/chest_xray/test/NORMAL/._IM-0005-0001.jpeg? [y]es, [n]o, [A]ll, [N]one, [r]ename: y\n",
            "replace chest_xray/__MACOSX/chest_xray/test/NORMAL/._IM-0006-0001.jpeg? [y]es, [n]o, [A]ll, [N]one, [r]ename: y\n",
            "replace chest_xray/__MACOSX/chest_xray/test/NORMAL/._IM-0007-0001.jpeg? [y]es, [n]o, [A]ll, [N]one, [r]ename: y\n",
            "replace chest_xray/__MACOSX/chest_xray/test/NORMAL/._IM-0009-0001.jpeg? [y]es, [n]o, [A]ll, [N]one, [r]ename: y\n",
            "replace chest_xray/__MACOSX/chest_xray/test/NORMAL/._IM-0010-0001.jpeg? [y]es, [n]o, [A]ll, [N]one, [r]ename: y\n",
            "replace chest_xray/__MACOSX/chest_xray/test/NORMAL/._IM-0011-0001-0001.jpeg? [y]es, [n]o, [A]ll, [N]one, [r]ename: y\n",
            "replace chest_xray/__MACOSX/chest_xray/test/NORMAL/._IM-0011-0001-0002.jpeg? [y]es, [n]o, [A]ll, [N]one, [r]ename: y\n",
            "replace chest_xray/__MACOSX/chest_xray/test/NORMAL/._IM-0011-0001.jpeg? [y]es, [n]o, [A]ll, [N]one, [r]ename: y\n",
            "replace chest_xray/__MACOSX/chest_xray/test/NORMAL/._IM-0013-0001.jpeg? [y]es, [n]o, [A]ll, [N]one, [r]ename: y\n",
            "replace chest_xray/__MACOSX/chest_xray/test/NORMAL/._IM-0015-0001.jpeg? [y]es, [n]o, [A]ll, [N]one, [r]ename: y\n",
            "replace chest_xray/__MACOSX/chest_xray/test/NORMAL/._IM-0016-0001.jpeg? [y]es, [n]o, [A]ll, [N]one, [r]ename: y\n",
            "replace chest_xray/__MACOSX/chest_xray/test/NORMAL/._IM-0017-0001.jpeg? [y]es, [n]o, [A]ll, [N]one, [r]ename: y\n",
            "replace chest_xray/__MACOSX/chest_xray/test/NORMAL/._IM-0019-0001.jpeg? [y]es, [n]o, [A]ll, [N]one, [r]ename: y\n",
            "replace chest_xray/__MACOSX/chest_xray/test/NORMAL/._IM-0021-0001.jpeg? [y]es, [n]o, [A]ll, [N]one, [r]ename: y\n",
            "replace chest_xray/__MACOSX/chest_xray/test/NORMAL/._IM-0022-0001.jpeg? [y]es, [n]o, [A]ll, [N]one, [r]ename: "
          ]
        }
      ],
      "source": [
        "!unzip /content/drive/MyDrive/chest_x_ray.zip  > /dev/null\n"
      ]
    },
    {
      "cell_type": "markdown",
      "source": [
        "### Importing packages\n"
      ],
      "metadata": {
        "id": "zhTgAur7C72I"
      }
    },
    {
      "cell_type": "code",
      "source": [
        "import os\n",
        "import glob\n",
        "import pandas as pd\n",
        "import numpy as np"
      ],
      "metadata": {
        "id": "fjPXcVt9C-yC"
      },
      "execution_count": 9,
      "outputs": []
    },
    {
      "cell_type": "markdown",
      "source": [
        "## 3. Dataset\n"
      ],
      "metadata": {
        "id": "ZcVPZSM7yRe5"
      }
    },
    {
      "cell_type": "markdown",
      "source": [
        "### Summary of the dataset"
      ],
      "metadata": {
        "id": "1MfzLtRiDzxW"
      }
    },
    {
      "cell_type": "code",
      "source": [
        "for dirpath, dirnames, filenames in os.walk('/content/chest_xray'):\n",
        "  print(f\"There are {len(filenames)} images in {dirpath}\")"
      ],
      "metadata": {
        "colab": {
          "base_uri": "https://localhost:8080/"
        },
        "id": "kE6UNSexDP_t",
        "outputId": "10ef9439-85ce-4d2f-9967-20612022999c"
      },
      "execution_count": 60,
      "outputs": [
        {
          "output_type": "stream",
          "name": "stdout",
          "text": [
            "There are 0 images in /content/chest_xray\n",
            "There are 0 images in /content/chest_xray/val\n",
            "There are 8 images in /content/chest_xray/val/PNEUMONIA\n",
            "There are 8 images in /content/chest_xray/val/NORMAL\n",
            "There are 0 images in /content/chest_xray/train\n",
            "There are 3875 images in /content/chest_xray/train/PNEUMONIA\n",
            "There are 1341 images in /content/chest_xray/train/NORMAL\n",
            "There are 1 images in /content/chest_xray/__MACOSX\n",
            "There are 3 images in /content/chest_xray/__MACOSX/chest_xray\n",
            "There are 1 images in /content/chest_xray/__MACOSX/chest_xray/val\n",
            "There are 9 images in /content/chest_xray/__MACOSX/chest_xray/val/PNEUMONIA\n",
            "There are 9 images in /content/chest_xray/__MACOSX/chest_xray/val/NORMAL\n",
            "There are 3 images in /content/chest_xray/__MACOSX/chest_xray/train\n",
            "There are 3876 images in /content/chest_xray/__MACOSX/chest_xray/train/PNEUMONIA\n",
            "There are 1342 images in /content/chest_xray/__MACOSX/chest_xray/train/NORMAL\n",
            "There are 3 images in /content/chest_xray/__MACOSX/chest_xray/test\n",
            "There are 390 images in /content/chest_xray/__MACOSX/chest_xray/test/PNEUMONIA\n",
            "There are 234 images in /content/chest_xray/__MACOSX/chest_xray/test/NORMAL\n",
            "There are 1 images in /content/chest_xray/chest_xray\n",
            "There are 1 images in /content/chest_xray/chest_xray/val\n",
            "There are 9 images in /content/chest_xray/chest_xray/val/PNEUMONIA\n",
            "There are 9 images in /content/chest_xray/chest_xray/val/NORMAL\n",
            "There are 1 images in /content/chest_xray/chest_xray/train\n",
            "There are 3876 images in /content/chest_xray/chest_xray/train/PNEUMONIA\n",
            "There are 1342 images in /content/chest_xray/chest_xray/train/NORMAL\n",
            "There are 1 images in /content/chest_xray/chest_xray/test\n",
            "There are 390 images in /content/chest_xray/chest_xray/test/PNEUMONIA\n",
            "There are 234 images in /content/chest_xray/chest_xray/test/NORMAL\n",
            "There are 0 images in /content/chest_xray/test\n",
            "There are 390 images in /content/chest_xray/test/PNEUMONIA\n",
            "There are 234 images in /content/chest_xray/test/NORMAL\n"
          ]
        }
      ]
    },
    {
      "cell_type": "markdown",
      "source": [
        "### Getting all the pathes of the images\n"
      ],
      "metadata": {
        "id": "ANUaUtosEQAb"
      }
    },
    {
      "cell_type": "code",
      "source": [
        "train_images = glob.glob(f\"/content/chest_xray/train/**/*.jpeg\")\n",
        "val_images = glob.glob(f\"/content/chest_xray/val/**/*.jpeg\")\n",
        "test_images = glob.glob(f\"/content/chest_xray/test/**/*.jpeg\")\n"
      ],
      "metadata": {
        "id": "y4-e3qHYGVGQ"
      },
      "execution_count": 49,
      "outputs": []
    },
    {
      "cell_type": "code",
      "source": [
        "print(f'Number of train samples:\\t\\t{len(train_images)}')\n",
        "print(f'Number of validation samples :\\t\\t{len(val_images)}')\n",
        "print(f'Number of test samples :\\t\\t{len(test_images)}')\n",
        "print('=============================================')\n",
        "print(f'Total number of samples :\\t\\t{len(train_images)+len(val_images)+len(test_images)}')"
      ],
      "metadata": {
        "colab": {
          "base_uri": "https://localhost:8080/"
        },
        "id": "eDJG7fHyEMMa",
        "outputId": "7d3a5776-867f-4723-cbd5-c70475cdaf19"
      },
      "execution_count": 59,
      "outputs": [
        {
          "output_type": "stream",
          "name": "stdout",
          "text": [
            "Number of train samples:\t\t5216\n",
            "Number of validation samples :\t\t16\n",
            "Number of test samples :\t\t624\n",
            "=============================================\n",
            "Total number of samples :\t\t5856\n"
          ]
        }
      ]
    },
    {
      "cell_type": "markdown",
      "source": [
        "0:NORMAL\n",
        "1:PNEUMONIA"
      ],
      "metadata": {
        "id": "x2NNhzMxMxHP"
      }
    },
    {
      "cell_type": "code",
      "source": [
        "label=[]\n",
        "for path in train_images:\n",
        "  if('NORMAL' in path):\n",
        "    label.append(0)\n",
        "  else:\n",
        "    label.append(1)\n",
        "df_train=pd.DataFrame({'image': path,'label':label})\n",
        "df_train.head()"
      ],
      "metadata": {
        "colab": {
          "base_uri": "https://localhost:8080/",
          "height": 206
        },
        "id": "c7A0cflOHuXV",
        "outputId": "c18e92e1-8b64-4b69-c9ae-07f0b26b5465"
      },
      "execution_count": 76,
      "outputs": [
        {
          "output_type": "execute_result",
          "data": {
            "text/plain": [
              "                                               image  label\n",
              "0  /content/chest_xray/train/NORMAL/IM-0640-0001....      1\n",
              "1  /content/chest_xray/train/NORMAL/IM-0640-0001....      1\n",
              "2  /content/chest_xray/train/NORMAL/IM-0640-0001....      1\n",
              "3  /content/chest_xray/train/NORMAL/IM-0640-0001....      1\n",
              "4  /content/chest_xray/train/NORMAL/IM-0640-0001....      1"
            ],
            "text/html": [
              "\n",
              "  <div id=\"df-b27bea83-8028-447b-bb90-33a42f6c70f8\">\n",
              "    <div class=\"colab-df-container\">\n",
              "      <div>\n",
              "<style scoped>\n",
              "    .dataframe tbody tr th:only-of-type {\n",
              "        vertical-align: middle;\n",
              "    }\n",
              "\n",
              "    .dataframe tbody tr th {\n",
              "        vertical-align: top;\n",
              "    }\n",
              "\n",
              "    .dataframe thead th {\n",
              "        text-align: right;\n",
              "    }\n",
              "</style>\n",
              "<table border=\"1\" class=\"dataframe\">\n",
              "  <thead>\n",
              "    <tr style=\"text-align: right;\">\n",
              "      <th></th>\n",
              "      <th>image</th>\n",
              "      <th>label</th>\n",
              "    </tr>\n",
              "  </thead>\n",
              "  <tbody>\n",
              "    <tr>\n",
              "      <th>0</th>\n",
              "      <td>/content/chest_xray/train/NORMAL/IM-0640-0001....</td>\n",
              "      <td>1</td>\n",
              "    </tr>\n",
              "    <tr>\n",
              "      <th>1</th>\n",
              "      <td>/content/chest_xray/train/NORMAL/IM-0640-0001....</td>\n",
              "      <td>1</td>\n",
              "    </tr>\n",
              "    <tr>\n",
              "      <th>2</th>\n",
              "      <td>/content/chest_xray/train/NORMAL/IM-0640-0001....</td>\n",
              "      <td>1</td>\n",
              "    </tr>\n",
              "    <tr>\n",
              "      <th>3</th>\n",
              "      <td>/content/chest_xray/train/NORMAL/IM-0640-0001....</td>\n",
              "      <td>1</td>\n",
              "    </tr>\n",
              "    <tr>\n",
              "      <th>4</th>\n",
              "      <td>/content/chest_xray/train/NORMAL/IM-0640-0001....</td>\n",
              "      <td>1</td>\n",
              "    </tr>\n",
              "  </tbody>\n",
              "</table>\n",
              "</div>\n",
              "      <button class=\"colab-df-convert\" onclick=\"convertToInteractive('df-b27bea83-8028-447b-bb90-33a42f6c70f8')\"\n",
              "              title=\"Convert this dataframe to an interactive table.\"\n",
              "              style=\"display:none;\">\n",
              "        \n",
              "  <svg xmlns=\"http://www.w3.org/2000/svg\" height=\"24px\"viewBox=\"0 0 24 24\"\n",
              "       width=\"24px\">\n",
              "    <path d=\"M0 0h24v24H0V0z\" fill=\"none\"/>\n",
              "    <path d=\"M18.56 5.44l.94 2.06.94-2.06 2.06-.94-2.06-.94-.94-2.06-.94 2.06-2.06.94zm-11 1L8.5 8.5l.94-2.06 2.06-.94-2.06-.94L8.5 2.5l-.94 2.06-2.06.94zm10 10l.94 2.06.94-2.06 2.06-.94-2.06-.94-.94-2.06-.94 2.06-2.06.94z\"/><path d=\"M17.41 7.96l-1.37-1.37c-.4-.4-.92-.59-1.43-.59-.52 0-1.04.2-1.43.59L10.3 9.45l-7.72 7.72c-.78.78-.78 2.05 0 2.83L4 21.41c.39.39.9.59 1.41.59.51 0 1.02-.2 1.41-.59l7.78-7.78 2.81-2.81c.8-.78.8-2.07 0-2.86zM5.41 20L4 18.59l7.72-7.72 1.47 1.35L5.41 20z\"/>\n",
              "  </svg>\n",
              "      </button>\n",
              "      \n",
              "  <style>\n",
              "    .colab-df-container {\n",
              "      display:flex;\n",
              "      flex-wrap:wrap;\n",
              "      gap: 12px;\n",
              "    }\n",
              "\n",
              "    .colab-df-convert {\n",
              "      background-color: #E8F0FE;\n",
              "      border: none;\n",
              "      border-radius: 50%;\n",
              "      cursor: pointer;\n",
              "      display: none;\n",
              "      fill: #1967D2;\n",
              "      height: 32px;\n",
              "      padding: 0 0 0 0;\n",
              "      width: 32px;\n",
              "    }\n",
              "\n",
              "    .colab-df-convert:hover {\n",
              "      background-color: #E2EBFA;\n",
              "      box-shadow: 0px 1px 2px rgba(60, 64, 67, 0.3), 0px 1px 3px 1px rgba(60, 64, 67, 0.15);\n",
              "      fill: #174EA6;\n",
              "    }\n",
              "\n",
              "    [theme=dark] .colab-df-convert {\n",
              "      background-color: #3B4455;\n",
              "      fill: #D2E3FC;\n",
              "    }\n",
              "\n",
              "    [theme=dark] .colab-df-convert:hover {\n",
              "      background-color: #434B5C;\n",
              "      box-shadow: 0px 1px 3px 1px rgba(0, 0, 0, 0.15);\n",
              "      filter: drop-shadow(0px 1px 2px rgba(0, 0, 0, 0.3));\n",
              "      fill: #FFFFFF;\n",
              "    }\n",
              "  </style>\n",
              "\n",
              "      <script>\n",
              "        const buttonEl =\n",
              "          document.querySelector('#df-b27bea83-8028-447b-bb90-33a42f6c70f8 button.colab-df-convert');\n",
              "        buttonEl.style.display =\n",
              "          google.colab.kernel.accessAllowed ? 'block' : 'none';\n",
              "\n",
              "        async function convertToInteractive(key) {\n",
              "          const element = document.querySelector('#df-b27bea83-8028-447b-bb90-33a42f6c70f8');\n",
              "          const dataTable =\n",
              "            await google.colab.kernel.invokeFunction('convertToInteractive',\n",
              "                                                     [key], {});\n",
              "          if (!dataTable) return;\n",
              "\n",
              "          const docLinkHtml = 'Like what you see? Visit the ' +\n",
              "            '<a target=\"_blank\" href=https://colab.research.google.com/notebooks/data_table.ipynb>data table notebook</a>'\n",
              "            + ' to learn more about interactive tables.';\n",
              "          element.innerHTML = '';\n",
              "          dataTable['output_type'] = 'display_data';\n",
              "          await google.colab.output.renderOutput(dataTable, element);\n",
              "          const docLink = document.createElement('div');\n",
              "          docLink.innerHTML = docLinkHtml;\n",
              "          element.appendChild(docLink);\n",
              "        }\n",
              "      </script>\n",
              "    </div>\n",
              "  </div>\n",
              "  "
            ]
          },
          "metadata": {},
          "execution_count": 76
        }
      ]
    },
    {
      "cell_type": "code",
      "source": [
        "label=[]\n",
        "for path in test_images:\n",
        "  if('NORMAL' in path):\n",
        "    label.append(0)\n",
        "  else:\n",
        "    label.append(1)\n",
        "df_test=pd.DataFrame({'image': path,'label':label})\n",
        "df_test.head()"
      ],
      "metadata": {
        "colab": {
          "base_uri": "https://localhost:8080/",
          "height": 206
        },
        "id": "N75lS90kMeoA",
        "outputId": "2735f44a-8338-42cf-aa14-7a2618652fa0"
      },
      "execution_count": 80,
      "outputs": [
        {
          "output_type": "execute_result",
          "data": {
            "text/plain": [
              "                                               image  label\n",
              "0  /content/chest_xray/test/NORMAL/NORMAL2-IM-030...      1\n",
              "1  /content/chest_xray/test/NORMAL/NORMAL2-IM-030...      1\n",
              "2  /content/chest_xray/test/NORMAL/NORMAL2-IM-030...      1\n",
              "3  /content/chest_xray/test/NORMAL/NORMAL2-IM-030...      1\n",
              "4  /content/chest_xray/test/NORMAL/NORMAL2-IM-030...      1"
            ],
            "text/html": [
              "\n",
              "  <div id=\"df-d052a749-ecdd-43b5-957c-5ded1f322785\">\n",
              "    <div class=\"colab-df-container\">\n",
              "      <div>\n",
              "<style scoped>\n",
              "    .dataframe tbody tr th:only-of-type {\n",
              "        vertical-align: middle;\n",
              "    }\n",
              "\n",
              "    .dataframe tbody tr th {\n",
              "        vertical-align: top;\n",
              "    }\n",
              "\n",
              "    .dataframe thead th {\n",
              "        text-align: right;\n",
              "    }\n",
              "</style>\n",
              "<table border=\"1\" class=\"dataframe\">\n",
              "  <thead>\n",
              "    <tr style=\"text-align: right;\">\n",
              "      <th></th>\n",
              "      <th>image</th>\n",
              "      <th>label</th>\n",
              "    </tr>\n",
              "  </thead>\n",
              "  <tbody>\n",
              "    <tr>\n",
              "      <th>0</th>\n",
              "      <td>/content/chest_xray/test/NORMAL/NORMAL2-IM-030...</td>\n",
              "      <td>1</td>\n",
              "    </tr>\n",
              "    <tr>\n",
              "      <th>1</th>\n",
              "      <td>/content/chest_xray/test/NORMAL/NORMAL2-IM-030...</td>\n",
              "      <td>1</td>\n",
              "    </tr>\n",
              "    <tr>\n",
              "      <th>2</th>\n",
              "      <td>/content/chest_xray/test/NORMAL/NORMAL2-IM-030...</td>\n",
              "      <td>1</td>\n",
              "    </tr>\n",
              "    <tr>\n",
              "      <th>3</th>\n",
              "      <td>/content/chest_xray/test/NORMAL/NORMAL2-IM-030...</td>\n",
              "      <td>1</td>\n",
              "    </tr>\n",
              "    <tr>\n",
              "      <th>4</th>\n",
              "      <td>/content/chest_xray/test/NORMAL/NORMAL2-IM-030...</td>\n",
              "      <td>1</td>\n",
              "    </tr>\n",
              "  </tbody>\n",
              "</table>\n",
              "</div>\n",
              "      <button class=\"colab-df-convert\" onclick=\"convertToInteractive('df-d052a749-ecdd-43b5-957c-5ded1f322785')\"\n",
              "              title=\"Convert this dataframe to an interactive table.\"\n",
              "              style=\"display:none;\">\n",
              "        \n",
              "  <svg xmlns=\"http://www.w3.org/2000/svg\" height=\"24px\"viewBox=\"0 0 24 24\"\n",
              "       width=\"24px\">\n",
              "    <path d=\"M0 0h24v24H0V0z\" fill=\"none\"/>\n",
              "    <path d=\"M18.56 5.44l.94 2.06.94-2.06 2.06-.94-2.06-.94-.94-2.06-.94 2.06-2.06.94zm-11 1L8.5 8.5l.94-2.06 2.06-.94-2.06-.94L8.5 2.5l-.94 2.06-2.06.94zm10 10l.94 2.06.94-2.06 2.06-.94-2.06-.94-.94-2.06-.94 2.06-2.06.94z\"/><path d=\"M17.41 7.96l-1.37-1.37c-.4-.4-.92-.59-1.43-.59-.52 0-1.04.2-1.43.59L10.3 9.45l-7.72 7.72c-.78.78-.78 2.05 0 2.83L4 21.41c.39.39.9.59 1.41.59.51 0 1.02-.2 1.41-.59l7.78-7.78 2.81-2.81c.8-.78.8-2.07 0-2.86zM5.41 20L4 18.59l7.72-7.72 1.47 1.35L5.41 20z\"/>\n",
              "  </svg>\n",
              "      </button>\n",
              "      \n",
              "  <style>\n",
              "    .colab-df-container {\n",
              "      display:flex;\n",
              "      flex-wrap:wrap;\n",
              "      gap: 12px;\n",
              "    }\n",
              "\n",
              "    .colab-df-convert {\n",
              "      background-color: #E8F0FE;\n",
              "      border: none;\n",
              "      border-radius: 50%;\n",
              "      cursor: pointer;\n",
              "      display: none;\n",
              "      fill: #1967D2;\n",
              "      height: 32px;\n",
              "      padding: 0 0 0 0;\n",
              "      width: 32px;\n",
              "    }\n",
              "\n",
              "    .colab-df-convert:hover {\n",
              "      background-color: #E2EBFA;\n",
              "      box-shadow: 0px 1px 2px rgba(60, 64, 67, 0.3), 0px 1px 3px 1px rgba(60, 64, 67, 0.15);\n",
              "      fill: #174EA6;\n",
              "    }\n",
              "\n",
              "    [theme=dark] .colab-df-convert {\n",
              "      background-color: #3B4455;\n",
              "      fill: #D2E3FC;\n",
              "    }\n",
              "\n",
              "    [theme=dark] .colab-df-convert:hover {\n",
              "      background-color: #434B5C;\n",
              "      box-shadow: 0px 1px 3px 1px rgba(0, 0, 0, 0.15);\n",
              "      filter: drop-shadow(0px 1px 2px rgba(0, 0, 0, 0.3));\n",
              "      fill: #FFFFFF;\n",
              "    }\n",
              "  </style>\n",
              "\n",
              "      <script>\n",
              "        const buttonEl =\n",
              "          document.querySelector('#df-d052a749-ecdd-43b5-957c-5ded1f322785 button.colab-df-convert');\n",
              "        buttonEl.style.display =\n",
              "          google.colab.kernel.accessAllowed ? 'block' : 'none';\n",
              "\n",
              "        async function convertToInteractive(key) {\n",
              "          const element = document.querySelector('#df-d052a749-ecdd-43b5-957c-5ded1f322785');\n",
              "          const dataTable =\n",
              "            await google.colab.kernel.invokeFunction('convertToInteractive',\n",
              "                                                     [key], {});\n",
              "          if (!dataTable) return;\n",
              "\n",
              "          const docLinkHtml = 'Like what you see? Visit the ' +\n",
              "            '<a target=\"_blank\" href=https://colab.research.google.com/notebooks/data_table.ipynb>data table notebook</a>'\n",
              "            + ' to learn more about interactive tables.';\n",
              "          element.innerHTML = '';\n",
              "          dataTable['output_type'] = 'display_data';\n",
              "          await google.colab.output.renderOutput(dataTable, element);\n",
              "          const docLink = document.createElement('div');\n",
              "          docLink.innerHTML = docLinkHtml;\n",
              "          element.appendChild(docLink);\n",
              "        }\n",
              "      </script>\n",
              "    </div>\n",
              "  </div>\n",
              "  "
            ]
          },
          "metadata": {},
          "execution_count": 80
        }
      ]
    },
    {
      "cell_type": "code",
      "source": [
        "label=[]\n",
        "for path in val_images:\n",
        "  if('NORMAL' in path):\n",
        "    label.append(0)\n",
        "  else:\n",
        "    label.append(1)\n",
        "df_val=pd.DataFrame({'image': path,'label':label})\n",
        "df_val.head()"
      ],
      "metadata": {
        "colab": {
          "base_uri": "https://localhost:8080/",
          "height": 206
        },
        "id": "FQ9QYC6nMkAM",
        "outputId": "a95db672-ab28-4a03-fa01-61068f75d4b1"
      },
      "execution_count": 78,
      "outputs": [
        {
          "output_type": "execute_result",
          "data": {
            "text/plain": [
              "                                               image  label\n",
              "0  /content/chest_xray/val/NORMAL/NORMAL2-IM-1437...      1\n",
              "1  /content/chest_xray/val/NORMAL/NORMAL2-IM-1437...      1\n",
              "2  /content/chest_xray/val/NORMAL/NORMAL2-IM-1437...      1\n",
              "3  /content/chest_xray/val/NORMAL/NORMAL2-IM-1437...      1\n",
              "4  /content/chest_xray/val/NORMAL/NORMAL2-IM-1437...      1"
            ],
            "text/html": [
              "\n",
              "  <div id=\"df-20fcd451-a7bc-441c-b104-fb9c8683a397\">\n",
              "    <div class=\"colab-df-container\">\n",
              "      <div>\n",
              "<style scoped>\n",
              "    .dataframe tbody tr th:only-of-type {\n",
              "        vertical-align: middle;\n",
              "    }\n",
              "\n",
              "    .dataframe tbody tr th {\n",
              "        vertical-align: top;\n",
              "    }\n",
              "\n",
              "    .dataframe thead th {\n",
              "        text-align: right;\n",
              "    }\n",
              "</style>\n",
              "<table border=\"1\" class=\"dataframe\">\n",
              "  <thead>\n",
              "    <tr style=\"text-align: right;\">\n",
              "      <th></th>\n",
              "      <th>image</th>\n",
              "      <th>label</th>\n",
              "    </tr>\n",
              "  </thead>\n",
              "  <tbody>\n",
              "    <tr>\n",
              "      <th>0</th>\n",
              "      <td>/content/chest_xray/val/NORMAL/NORMAL2-IM-1437...</td>\n",
              "      <td>1</td>\n",
              "    </tr>\n",
              "    <tr>\n",
              "      <th>1</th>\n",
              "      <td>/content/chest_xray/val/NORMAL/NORMAL2-IM-1437...</td>\n",
              "      <td>1</td>\n",
              "    </tr>\n",
              "    <tr>\n",
              "      <th>2</th>\n",
              "      <td>/content/chest_xray/val/NORMAL/NORMAL2-IM-1437...</td>\n",
              "      <td>1</td>\n",
              "    </tr>\n",
              "    <tr>\n",
              "      <th>3</th>\n",
              "      <td>/content/chest_xray/val/NORMAL/NORMAL2-IM-1437...</td>\n",
              "      <td>1</td>\n",
              "    </tr>\n",
              "    <tr>\n",
              "      <th>4</th>\n",
              "      <td>/content/chest_xray/val/NORMAL/NORMAL2-IM-1437...</td>\n",
              "      <td>1</td>\n",
              "    </tr>\n",
              "  </tbody>\n",
              "</table>\n",
              "</div>\n",
              "      <button class=\"colab-df-convert\" onclick=\"convertToInteractive('df-20fcd451-a7bc-441c-b104-fb9c8683a397')\"\n",
              "              title=\"Convert this dataframe to an interactive table.\"\n",
              "              style=\"display:none;\">\n",
              "        \n",
              "  <svg xmlns=\"http://www.w3.org/2000/svg\" height=\"24px\"viewBox=\"0 0 24 24\"\n",
              "       width=\"24px\">\n",
              "    <path d=\"M0 0h24v24H0V0z\" fill=\"none\"/>\n",
              "    <path d=\"M18.56 5.44l.94 2.06.94-2.06 2.06-.94-2.06-.94-.94-2.06-.94 2.06-2.06.94zm-11 1L8.5 8.5l.94-2.06 2.06-.94-2.06-.94L8.5 2.5l-.94 2.06-2.06.94zm10 10l.94 2.06.94-2.06 2.06-.94-2.06-.94-.94-2.06-.94 2.06-2.06.94z\"/><path d=\"M17.41 7.96l-1.37-1.37c-.4-.4-.92-.59-1.43-.59-.52 0-1.04.2-1.43.59L10.3 9.45l-7.72 7.72c-.78.78-.78 2.05 0 2.83L4 21.41c.39.39.9.59 1.41.59.51 0 1.02-.2 1.41-.59l7.78-7.78 2.81-2.81c.8-.78.8-2.07 0-2.86zM5.41 20L4 18.59l7.72-7.72 1.47 1.35L5.41 20z\"/>\n",
              "  </svg>\n",
              "      </button>\n",
              "      \n",
              "  <style>\n",
              "    .colab-df-container {\n",
              "      display:flex;\n",
              "      flex-wrap:wrap;\n",
              "      gap: 12px;\n",
              "    }\n",
              "\n",
              "    .colab-df-convert {\n",
              "      background-color: #E8F0FE;\n",
              "      border: none;\n",
              "      border-radius: 50%;\n",
              "      cursor: pointer;\n",
              "      display: none;\n",
              "      fill: #1967D2;\n",
              "      height: 32px;\n",
              "      padding: 0 0 0 0;\n",
              "      width: 32px;\n",
              "    }\n",
              "\n",
              "    .colab-df-convert:hover {\n",
              "      background-color: #E2EBFA;\n",
              "      box-shadow: 0px 1px 2px rgba(60, 64, 67, 0.3), 0px 1px 3px 1px rgba(60, 64, 67, 0.15);\n",
              "      fill: #174EA6;\n",
              "    }\n",
              "\n",
              "    [theme=dark] .colab-df-convert {\n",
              "      background-color: #3B4455;\n",
              "      fill: #D2E3FC;\n",
              "    }\n",
              "\n",
              "    [theme=dark] .colab-df-convert:hover {\n",
              "      background-color: #434B5C;\n",
              "      box-shadow: 0px 1px 3px 1px rgba(0, 0, 0, 0.15);\n",
              "      filter: drop-shadow(0px 1px 2px rgba(0, 0, 0, 0.3));\n",
              "      fill: #FFFFFF;\n",
              "    }\n",
              "  </style>\n",
              "\n",
              "      <script>\n",
              "        const buttonEl =\n",
              "          document.querySelector('#df-20fcd451-a7bc-441c-b104-fb9c8683a397 button.colab-df-convert');\n",
              "        buttonEl.style.display =\n",
              "          google.colab.kernel.accessAllowed ? 'block' : 'none';\n",
              "\n",
              "        async function convertToInteractive(key) {\n",
              "          const element = document.querySelector('#df-20fcd451-a7bc-441c-b104-fb9c8683a397');\n",
              "          const dataTable =\n",
              "            await google.colab.kernel.invokeFunction('convertToInteractive',\n",
              "                                                     [key], {});\n",
              "          if (!dataTable) return;\n",
              "\n",
              "          const docLinkHtml = 'Like what you see? Visit the ' +\n",
              "            '<a target=\"_blank\" href=https://colab.research.google.com/notebooks/data_table.ipynb>data table notebook</a>'\n",
              "            + ' to learn more about interactive tables.';\n",
              "          element.innerHTML = '';\n",
              "          dataTable['output_type'] = 'display_data';\n",
              "          await google.colab.output.renderOutput(dataTable, element);\n",
              "          const docLink = document.createElement('div');\n",
              "          docLink.innerHTML = docLinkHtml;\n",
              "          element.appendChild(docLink);\n",
              "        }\n",
              "      </script>\n",
              "    </div>\n",
              "  </div>\n",
              "  "
            ]
          },
          "metadata": {},
          "execution_count": 78
        }
      ]
    },
    {
      "cell_type": "markdown",
      "source": [
        "## 4. Preprocessing"
      ],
      "metadata": {
        "id": "DqeemXRayUTp"
      }
    },
    {
      "cell_type": "markdown",
      "source": [
        "## 5. Modeling"
      ],
      "metadata": {
        "id": "Ln4RUDkfyXYa"
      }
    },
    {
      "cell_type": "markdown",
      "source": [
        "## 6. Training"
      ],
      "metadata": {
        "id": "vYpxj7I6yZbo"
      }
    },
    {
      "cell_type": "markdown",
      "source": [
        "## 7. Performance and evaluation"
      ],
      "metadata": {
        "id": "0tKLhuL1ybDA"
      }
    },
    {
      "cell_type": "markdown",
      "source": [
        "## 8. Discussions and conclusions\n"
      ],
      "metadata": {
        "id": "doYATw40ydPy"
      }
    }
  ]
}